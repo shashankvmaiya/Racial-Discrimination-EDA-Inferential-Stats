{
 "cells": [
  {
   "cell_type": "markdown",
   "metadata": {},
   "source": [
    "# Examining Racial Discrimination in the US Job Market\n",
    "\n",
    "### Background\n",
    "Racial discrimination continues to be pervasive in cultures throughout the world. Researchers examined the level of racial discrimination in the United States labor market by randomly assigning identical résumés to black-sounding or white-sounding names and observing the impact on requests for interviews from employers.\n",
    "\n",
    "### Data\n",
    "In the dataset provided, each row represents a resume. The 'race' column has two values, 'b' and 'w', indicating black-sounding and white-sounding. The column 'call' has two values, 1 and 0, indicating whether the resume received a call from employers or not.\n",
    "\n",
    "Note that the 'b' and 'w' values in race are assigned randomly to the resumes when presented to the employer."
   ]
  },
  {
   "cell_type": "markdown",
   "metadata": {},
   "source": [
    "### Exercises\n",
    "You will perform a statistical analysis to establish whether race has a significant impact on the rate of callbacks for resumes.\n",
    "\n",
    "Answer the following questions **in this notebook below and submit to your Github account**. \n",
    "\n",
    "   1. What test is appropriate for this problem? Does CLT apply?\n",
    "   2. What are the null and alternate hypotheses?\n",
    "   3. Compute margin of error, confidence interval, and p-value. Try using both the bootstrapping and the frequentist statistical approaches.\n",
    "   4. Write a story describing the statistical significance in the context or the original problem.\n",
    "   5. Does your analysis mean that race/name is the most important factor in callback success? Why or why not? If not, how would you amend your analysis?\n",
    "\n",
    "You can include written notes in notebook cells using Markdown: \n",
    "   - In the control panel at the top, choose Cell > Cell Type > Markdown\n",
    "   - Markdown syntax: http://nestacms.com/docs/creating-content/markdown-cheat-sheet\n",
    "\n",
    "#### Resources\n",
    "+ Experiment information and data source: http://www.povertyactionlab.org/evaluation/discrimination-job-market-united-states\n",
    "+ Scipy statistical methods: http://docs.scipy.org/doc/scipy/reference/stats.html \n",
    "+ Markdown syntax: http://nestacms.com/docs/creating-content/markdown-cheat-sheet\n",
    "+ Formulas for the Bernoulli distribution: https://en.wikipedia.org/wiki/Bernoulli_distribution"
   ]
  },
  {
   "cell_type": "code",
   "execution_count": 141,
   "metadata": {},
   "outputs": [],
   "source": [
    "import pandas as pd\n",
    "import numpy as np\n",
    "from scipy import stats\n",
    "import matplotlib.pyplot as plt\n",
    "import seaborn as sns"
   ]
  },
  {
   "cell_type": "code",
   "execution_count": 142,
   "metadata": {},
   "outputs": [],
   "source": [
    "data = pd.io.stata.read_stata('data/us_job_market_discrimination.dta')"
   ]
  },
  {
   "cell_type": "markdown",
   "metadata": {},
   "source": [
    "### About the Data Set"
   ]
  },
  {
   "cell_type": "markdown",
   "metadata": {},
   "source": [
    "**Shape of the data**"
   ]
  },
  {
   "cell_type": "code",
   "execution_count": 143,
   "metadata": {},
   "outputs": [
    {
     "data": {
      "text/plain": [
       "(4870, 65)"
      ]
     },
     "execution_count": 143,
     "metadata": {},
     "output_type": "execute_result"
    }
   ],
   "source": [
    "data.shape"
   ]
  },
  {
   "cell_type": "markdown",
   "metadata": {},
   "source": [
    "**Look at first few observations**"
   ]
  },
  {
   "cell_type": "code",
   "execution_count": 144,
   "metadata": {},
   "outputs": [
    {
     "data": {
      "text/html": [
       "<div>\n",
       "<style scoped>\n",
       "    .dataframe tbody tr th:only-of-type {\n",
       "        vertical-align: middle;\n",
       "    }\n",
       "\n",
       "    .dataframe tbody tr th {\n",
       "        vertical-align: top;\n",
       "    }\n",
       "\n",
       "    .dataframe thead th {\n",
       "        text-align: right;\n",
       "    }\n",
       "</style>\n",
       "<table border=\"1\" class=\"dataframe\">\n",
       "  <thead>\n",
       "    <tr style=\"text-align: right;\">\n",
       "      <th></th>\n",
       "      <th>id</th>\n",
       "      <th>ad</th>\n",
       "      <th>education</th>\n",
       "      <th>ofjobs</th>\n",
       "      <th>yearsexp</th>\n",
       "      <th>honors</th>\n",
       "      <th>volunteer</th>\n",
       "      <th>military</th>\n",
       "      <th>empholes</th>\n",
       "      <th>occupspecific</th>\n",
       "      <th>...</th>\n",
       "      <th>compreq</th>\n",
       "      <th>orgreq</th>\n",
       "      <th>manuf</th>\n",
       "      <th>transcom</th>\n",
       "      <th>bankreal</th>\n",
       "      <th>trade</th>\n",
       "      <th>busservice</th>\n",
       "      <th>othservice</th>\n",
       "      <th>missind</th>\n",
       "      <th>ownership</th>\n",
       "    </tr>\n",
       "  </thead>\n",
       "  <tbody>\n",
       "    <tr>\n",
       "      <th>0</th>\n",
       "      <td>b</td>\n",
       "      <td>1</td>\n",
       "      <td>4</td>\n",
       "      <td>2</td>\n",
       "      <td>6</td>\n",
       "      <td>0</td>\n",
       "      <td>0</td>\n",
       "      <td>0</td>\n",
       "      <td>1</td>\n",
       "      <td>17</td>\n",
       "      <td>...</td>\n",
       "      <td>1.0</td>\n",
       "      <td>0.0</td>\n",
       "      <td>1.0</td>\n",
       "      <td>0.0</td>\n",
       "      <td>0.0</td>\n",
       "      <td>0.0</td>\n",
       "      <td>0.0</td>\n",
       "      <td>0.0</td>\n",
       "      <td>0.0</td>\n",
       "      <td></td>\n",
       "    </tr>\n",
       "    <tr>\n",
       "      <th>1</th>\n",
       "      <td>b</td>\n",
       "      <td>1</td>\n",
       "      <td>3</td>\n",
       "      <td>3</td>\n",
       "      <td>6</td>\n",
       "      <td>0</td>\n",
       "      <td>1</td>\n",
       "      <td>1</td>\n",
       "      <td>0</td>\n",
       "      <td>316</td>\n",
       "      <td>...</td>\n",
       "      <td>1.0</td>\n",
       "      <td>0.0</td>\n",
       "      <td>1.0</td>\n",
       "      <td>0.0</td>\n",
       "      <td>0.0</td>\n",
       "      <td>0.0</td>\n",
       "      <td>0.0</td>\n",
       "      <td>0.0</td>\n",
       "      <td>0.0</td>\n",
       "      <td></td>\n",
       "    </tr>\n",
       "    <tr>\n",
       "      <th>2</th>\n",
       "      <td>b</td>\n",
       "      <td>1</td>\n",
       "      <td>4</td>\n",
       "      <td>1</td>\n",
       "      <td>6</td>\n",
       "      <td>0</td>\n",
       "      <td>0</td>\n",
       "      <td>0</td>\n",
       "      <td>0</td>\n",
       "      <td>19</td>\n",
       "      <td>...</td>\n",
       "      <td>1.0</td>\n",
       "      <td>0.0</td>\n",
       "      <td>1.0</td>\n",
       "      <td>0.0</td>\n",
       "      <td>0.0</td>\n",
       "      <td>0.0</td>\n",
       "      <td>0.0</td>\n",
       "      <td>0.0</td>\n",
       "      <td>0.0</td>\n",
       "      <td></td>\n",
       "    </tr>\n",
       "  </tbody>\n",
       "</table>\n",
       "<p>3 rows × 65 columns</p>\n",
       "</div>"
      ],
      "text/plain": [
       "  id ad  education  ofjobs  yearsexp  honors  volunteer  military  empholes  \\\n",
       "0  b  1          4       2         6       0          0         0         1   \n",
       "1  b  1          3       3         6       0          1         1         0   \n",
       "2  b  1          4       1         6       0          0         0         0   \n",
       "\n",
       "   occupspecific    ...      compreq  orgreq  manuf  transcom  bankreal trade  \\\n",
       "0             17    ...          1.0     0.0    1.0       0.0       0.0   0.0   \n",
       "1            316    ...          1.0     0.0    1.0       0.0       0.0   0.0   \n",
       "2             19    ...          1.0     0.0    1.0       0.0       0.0   0.0   \n",
       "\n",
       "  busservice othservice  missind  ownership  \n",
       "0        0.0        0.0      0.0             \n",
       "1        0.0        0.0      0.0             \n",
       "2        0.0        0.0      0.0             \n",
       "\n",
       "[3 rows x 65 columns]"
      ]
     },
     "execution_count": 144,
     "metadata": {},
     "output_type": "execute_result"
    }
   ],
   "source": [
    "data.head(3)"
   ]
  },
  {
   "cell_type": "markdown",
   "metadata": {},
   "source": [
    "**Look into the 'Race' Column**"
   ]
  },
  {
   "cell_type": "code",
   "execution_count": 145,
   "metadata": {},
   "outputs": [
    {
     "data": {
      "text/plain": [
       "count     4870\n",
       "unique       2\n",
       "top          b\n",
       "freq      2435\n",
       "Name: race, dtype: object"
      ]
     },
     "execution_count": 145,
     "metadata": {},
     "output_type": "execute_result"
    }
   ],
   "source": [
    "data.race.describe()"
   ]
  },
  {
   "cell_type": "code",
   "execution_count": 146,
   "metadata": {},
   "outputs": [
    {
     "data": {
      "text/plain": [
       "235.0"
      ]
     },
     "execution_count": 146,
     "metadata": {},
     "output_type": "execute_result"
    }
   ],
   "source": [
    "# number of callbacks for white-sounding names\n",
    "sum(data[data.race=='w'].call)"
   ]
  },
  {
   "cell_type": "code",
   "execution_count": 147,
   "metadata": {},
   "outputs": [
    {
     "data": {
      "text/plain": [
       "157.0"
      ]
     },
     "execution_count": 147,
     "metadata": {},
     "output_type": "execute_result"
    }
   ],
   "source": [
    "# number of callbacks for black-sounding names\n",
    "sum(data[data.race=='b'].call)"
   ]
  },
  {
   "cell_type": "markdown",
   "metadata": {},
   "source": [
    "**Observations**\n",
    "* Sample has 4870 data points; out of which half of them (2435) have been randomly tagged as 'w' and the other half as 'b'\n",
    "* Out of the 2435 'w' sounding names, 235 (9.65%) received call backs\n",
    "* Out of the 2435 'b' sounding names, 157 (6.45%) received call backs"
   ]
  },
  {
   "cell_type": "markdown",
   "metadata": {
    "collapsed": true
   },
   "source": [
    "<div class=\"span5 alert alert-success\">\n",
    "<p>Q1 & Q2. What test is appropriate for this problem? Does CLT apply? What are the null and alternate hypotheses?</p>\n",
    "</div>"
   ]
  },
  {
   "cell_type": "markdown",
   "metadata": {},
   "source": [
    "* Two-sample test would be appropriate for this problem\n",
    "* We have 2435 independent data points for both 'b' and 'w' sounding names. The number of success = 157 and 235 for 'b' and 'w', respectively. The 'Normal' conditions are met and hence, we can use CLT to claim that the resulting sum will have Normal distribution\n",
    "* **H0 Hypothesis** 'b' and 'w' sounding names have the same calling rates and distribution\n",
    "* **Ha Hypothesis** 'b' and 'w' sounding names does not have the same calling rates and distribution"
   ]
  },
  {
   "cell_type": "markdown",
   "metadata": {},
   "source": [
    "<div class=\"span5 alert alert-success\">\n",
    "<p>Q3. Compute margin of error, confidence interval, and p-value. Try using both the bootstrapping and the frequentist statistical approaches?</p>\n",
    "</div>"
   ]
  },
  {
   "cell_type": "code",
   "execution_count": 148,
   "metadata": {},
   "outputs": [],
   "source": [
    "w = data[data.race=='w']\n",
    "b = data[data.race=='b']"
   ]
  },
  {
   "cell_type": "markdown",
   "metadata": {},
   "source": [
    "### Frequentist Approach\n",
    "**Hypothesis Testing and p-value**\n",
    "* H0 hypothesis: 'b.call' and 'w.call' have the same distribution (and mean/std)\n",
    "* Computation of Standard error of mean for (w.call - b.call) = sqrt(var(call)/n_b + var(call)/n_w), where\n",
    "    * call = w.call and b.call combined \n",
    "    * var(call) = variance of call = mean(call) * (1-mean(call))\n",
    "    * n_b and n_w are the number of 'b' and 'w' sounding name samples = 2345"
   ]
  },
  {
   "cell_type": "code",
   "execution_count": 149,
   "metadata": {},
   "outputs": [
    {
     "name": "stdout",
     "output_type": "stream",
     "text": [
      "Standard Error (SE) = 0.008\n",
      "Difference of Means Observed (w-b) = 0.032\n",
      "Z-statistic for the observed mean difference (0.032) = 4.108\n",
      "p-value using z-statistics = 3.983e-05\n"
     ]
    }
   ],
   "source": [
    "std_call = np.std(data.call)\n",
    "mean_call_b, mean_call_w = np.mean(b.call), np.mean(w.call)\n",
    "diff_of_means = mean_call_w-mean_call_b\n",
    "# Hypothesis Testing via Frequentist Approach\n",
    "se = np.sqrt(std_call**2/len(b.call) + std_call**2/len(w.call))\n",
    "z = (diff_of_means-0)/se\n",
    "p = 2*stats.norm.sf(z)\n",
    "print('Standard Error (SE) = %.3f' %se)\n",
    "print('Difference of Means Observed (w-b) = %.3f' %(diff_of_means))\n",
    "print('Z-statistic for the observed mean difference (%.3f) = %.3f' %((mean_call_w-mean_call_b), z) )\n",
    "print('p-value using z-statistics = %.3e' %p)"
   ]
  },
  {
   "cell_type": "markdown",
   "metadata": {},
   "source": [
    "**Margin of Error and Confidence Interval of the observed value**\n",
    "* Use 5% significance level of the observed value for MOE and CI calculation\n",
    "* Note: The std used to compute the SE for this case is sqrt( var(b.call)/n_b + var(w.call)/n_w ). This is because, we are not assuming the H0 here. We are just interested in finding out the margin of error and confidence interval of our observation"
   ]
  },
  {
   "cell_type": "code",
   "execution_count": 150,
   "metadata": {},
   "outputs": [
    {
     "name": "stdout",
     "output_type": "stream",
     "text": [
      "Difference of Means Observed (w-b) = 0.032\n",
      "Margin of Error (Frequentist Method) = 0.015\n",
      "95% Confidence interval of Observed Mean Difference (Frequentist Method) = [0.017, 0.047]\n"
     ]
    }
   ],
   "source": [
    "# Margin of Error and Confidence Interval of the observed value\n",
    "std_call, std_call_b, std_call_w = np.std(data.call), np.std(b.call), np.std(w.call)\n",
    "mean_call, mean_call_b, mean_call_w = np.mean(data.call), np.mean(b.call), np.mean(w.call)\n",
    "diff_of_means = mean_call_w-mean_call_b\n",
    "\n",
    "se = np.sqrt(std_call_b**2/len(b.call) + std_call_w**2/len(w.call))\n",
    "margin_of_error = stats.norm.ppf(.975)*se\n",
    "confidence_interval = [diff_of_means-margin_of_error, diff_of_means+margin_of_error]\n",
    "print('Difference of Means Observed (w-b) = %.3f' %(diff_of_means))\n",
    "print('Margin of Error (Frequentist Method) = %.3f' %margin_of_error)\n",
    "print('95%% Confidence interval of Observed Mean Difference (Frequentist Method) = [%.3f, %.3f]' %(confidence_interval[0], confidence_interval[1]))"
   ]
  },
  {
   "cell_type": "markdown",
   "metadata": {},
   "source": [
    "### Bootstrap Method\n",
    "**Hypothesis Testing and p-value**\n",
    "* H0 hypothesis: 'b.call' and 'w.call' have the same distribution (and mean/std)\n",
    "* Since b.call and w.call have the same distribution, we will combine the two data and use 'Permutation' based approach to get bootstrap replicates"
   ]
  },
  {
   "cell_type": "code",
   "execution_count": 152,
   "metadata": {},
   "outputs": [
    {
     "name": "stdout",
     "output_type": "stream",
     "text": [
      "Difference of Means Observed (w-b) = 0.032\n",
      "p-value for the observed diff of means = 4.0e-05\n"
     ]
    }
   ],
   "source": [
    "# Hypothesis testing of H0 using 2-Sample Permutation based testing\n",
    "size = 100000\n",
    "bs_replicates = np.empty(size)\n",
    "diff_of_means = np.mean(w.call) - np.mean(b.call)\n",
    "all_calls = np.concatenate((w.call, b.call))\n",
    "for i in range(size):\n",
    "    bs_samples = np.random.permutation(all_calls)\n",
    "    bs_samples_w = bs_samples[:len(w.call)]\n",
    "    bs_samples_b = bs_samples[len(w.call):]\n",
    "    bs_replicates[i] = np.mean(bs_samples_w) - np.mean(bs_samples_b)\n",
    "p = np.sum(np.abs(bs_replicates)>np.abs(diff_of_means))/len(bs_replicates)\n",
    "print('Difference of Means Observed (w-b) = %.3f' %(diff_of_means))\n",
    "print('p-value for the observed diff of means = %.1e' %p)"
   ]
  },
  {
   "cell_type": "markdown",
   "metadata": {},
   "source": [
    "**Margin of Error and Confidence Interval of the observed value**\n",
    "* We are aiming to get the 95% confidence interval for the observed mean difference\n",
    "* Hence we cannot combine the b.call and w.call samples\n",
    "* We have to use Bootstrap method to get samples for 'b' and 'w' using their respective data (without permutation)"
   ]
  },
  {
   "cell_type": "code",
   "execution_count": 154,
   "metadata": {},
   "outputs": [
    {
     "name": "stdout",
     "output_type": "stream",
     "text": [
      "Difference of Means Observed (w-b) = 0.032\n",
      "Margin of Error (Bootstrap Method) for 95% Confidence Interval = 0.015\n",
      "95%   Confidence interval of Observed Mean Difference = [0.017, 0.047]\n",
      "99%   Confidence interval of Observed Mean Difference = [0.012, 0.052]\n",
      "99.9% Confidence interval of Observed Mean Difference = [0.007, 0.058]\n"
     ]
    }
   ],
   "source": [
    "# Margin of Error and Confidence Interval of the observed value\n",
    "size = 10000\n",
    "bs_replicates = np.empty(size)\n",
    "diff_of_means = np.mean(w.call) - np.mean(b.call)\n",
    "for i in range(size):\n",
    "    bs_samples_w = np.random.choice(w.call, len(w.call))\n",
    "    bs_samples_b = np.random.choice(b.call, len(b.call))\n",
    "    bs_replicates[i] = np.mean(bs_samples_w) - np.mean(bs_samples_b)\n",
    "\n",
    "confidence_interval = np.percentile(bs_replicates, [0.05, 0.5, 2.5, 97.5, 99.5, 99.95])\n",
    "margin_of_error = (confidence_interval[3]-confidence_interval[2])*0.5\n",
    "print('Difference of Means Observed (w-b) = %.3f' %(diff_of_means))\n",
    "print('Margin of Error (Bootstrap Method) for 95%% Confidence Interval = %.3f' %margin_of_error)\n",
    "print('95%%   Confidence interval of Observed Mean Difference = [%.3f, %.3f]' %(confidence_interval[2], confidence_interval[3]))\n",
    "print('99%%   Confidence interval of Observed Mean Difference = [%.3f, %.3f]' %(confidence_interval[1], confidence_interval[4]))\n",
    "print('99.9%% Confidence interval of Observed Mean Difference = [%.3f, %.3f]' %(confidence_interval[0], confidence_interval[5]))"
   ]
  },
  {
   "cell_type": "code",
   "execution_count": 155,
   "metadata": {},
   "outputs": [
    {
     "data": {
      "image/png": "[encoded data removed]",
      "text/plain": [
       "<Figure size 432x288 with 1 Axes>"
      ]
     },
     "metadata": {
      "needs_background": "light"
     },
     "output_type": "display_data"
    }
   ],
   "source": [
    "#Plot to show the 95% Confidence Interval\n",
    "mu, sigma = np.mean(w.call) - np.mean(b.call), np.sqrt(np.var(w.call)+np.var(b.call))\n",
    "x=np.linspace(-0.75, 0.75, 200)\n",
    "y=1/np.sqrt(2*np.pi*sigma**2)*np.e**(-(x-mu)**2/(2*sigma**2))\n",
    "plt.plot(x, y)\n",
    "plt.axvline(x=confidence_interval[2], color='red')\n",
    "plt.axvline(x=confidence_interval[3], color='green')\n",
    "plt.title('95% CI for the Observed Difference of Mean = {0:.3f}'.format(mu))\n",
    "plt.xlabel('Temperature')\n",
    "plt.ylabel('PDF')\n",
    "plt.legend(('Distribution of Difference of Means (w-b)', \"{0:.3f} F\".format(confidence_interval[2]), \"{0:.3f} F\".format(confidence_interval[3])))\n",
    "plt.show()"
   ]
  },
  {
   "cell_type": "markdown",
   "metadata": {},
   "source": [
    "<div class=\"span5 alert alert-success\">\n",
    "<p> Q4 & Q5. Write a story describing the statistical significance in the context or the original problem. Does your analysis mean that race/name is the most important factor in callback success? Why or why not? If not, how would you amend your analysis? </p>\n",
    "</div>"
   ]
  },
  {
   "cell_type": "markdown",
   "metadata": {},
   "source": [
    "Racial Discrimination in the US Job Market continues to be pervasive. In this problem, we investigated data to see if 'black' or 'white' sounding names have any impact in the job call back rates.  \n",
    "We assumed a null hypothesis H0: both 'black' sounding names and 'white' sounding names have identical job call back rates. Using Hypothesis testing, we obtained a  p-value for the observed difference in the average job calling rate assuming H0 as  4x10−5. This is way lower than our accepted 5% significance level. Hence, we reject this H0 hypothesis and accept the alternate Ha hypothesis: 'black' and 'white' sounding names does not have the same calling rates and distribution. In other words, race do seem to play a significant role in job call back rates. \n",
    "\n",
    "\n",
    "This doesnt mean that race/name is the most important factor in callback success. The callback rates in the sample set was just 10%. Clearly, there are other factors other than just race that would determine the callback success. For example, education level, job experience, skills would be way more important in callback success. We would have to look at the remaining columns in the data and repeat the above analysis to judge its importance in job callback rates. "
   ]
  }
 ],
 "metadata": {
  "kernelspec": {
   "display_name": "Python 3",
   "language": "python",
   "name": "python3"
  },
  "language_info": {
   "codemirror_mode": {
    "name": "ipython",
    "version": 3
   },
   "file_extension": ".py",
   "mimetype": "text/x-python",
   "name": "python",
   "nbconvert_exporter": "python",
   "pygments_lexer": "ipython3",
   "version": "3.7.0"
  }
 },
 "nbformat": 4,
 "nbformat_minor": 1
}
